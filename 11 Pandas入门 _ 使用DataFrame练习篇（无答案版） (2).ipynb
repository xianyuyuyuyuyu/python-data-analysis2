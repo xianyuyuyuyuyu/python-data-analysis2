{
 "cells": [
  {
   "cell_type": "markdown",
   "id": "85a58361",
   "metadata": {},
   "source": [
    "#### 写出导入pandas的语句，并且给pandas别名为`pd`。"
   ]
  },
  {
   "cell_type": "code",
   "execution_count": null,
   "id": "4c69b47e",
   "metadata": {},
   "outputs": [],
   "source": []
  },
  {
   "cell_type": "markdown",
   "id": "775988b2",
   "metadata": {},
   "source": [
    "#### 创建一个叫`name`的Series，里面包含字符串元素 `\"小陈\", \"小李\", \"小王\", \"小张\", \"小赵\", \"小周\"`，标签为`\"001\", \"002\", \"003\", \"004\", \"005\", \"006\"`。\n",
    "#### 创建一个叫`gender`的Series，里面包含字符串元素 `\"女\", \"女\", \"男\", \"男\", \"女\", \"男\"`，标签为`\"006\", \"005\", \"004\", \"003\", \"002\", \"001\"`。\n",
    "#### 创建一个叫`height`的Series，里面包含浮点数元素 `172.5, 168.0, 178.2, 181.3, 161.7`，标签为`\"001\", \"002\", \"003\", \"004\", \"005\"`。"
   ]
  },
  {
   "cell_type": "code",
   "execution_count": null,
   "id": "439581d1",
   "metadata": {},
   "outputs": [],
   "source": []
  },
  {
   "cell_type": "markdown",
   "id": "2762c535",
   "metadata": {},
   "source": [
    "#### 创建一个叫`students`的DataFrame，包含列名姓名、性别、身高，数据分别对应创建好的`name`、`gender`、以及`height`这三个Series。输出创建好的`students`。"
   ]
  },
  {
   "cell_type": "code",
   "execution_count": null,
   "id": "6f0b4181",
   "metadata": {},
   "outputs": [],
   "source": []
  },
  {
   "cell_type": "markdown",
   "id": "0378a983",
   "metadata": {},
   "source": [
    "#### 打印`students`所有索引和列名。"
   ]
  },
  {
   "cell_type": "code",
   "execution_count": null,
   "id": "8071615a",
   "metadata": {},
   "outputs": [],
   "source": []
  },
  {
   "cell_type": "markdown",
   "id": "dc260f05",
   "metadata": {},
   "source": [
    "#### 输出把`students`的行和列进行转置后的结果。"
   ]
  },
  {
   "cell_type": "code",
   "execution_count": null,
   "id": "64b971f8",
   "metadata": {},
   "outputs": [],
   "source": []
  },
  {
   "cell_type": "markdown",
   "id": "5627c4bb",
   "metadata": {},
   "source": [
    "#### 输出`students`的身高列。"
   ]
  },
  {
   "cell_type": "code",
   "execution_count": null,
   "id": "20b7ba86",
   "metadata": {},
   "outputs": [],
   "source": []
  },
  {
   "cell_type": "markdown",
   "id": "6a2fd432",
   "metadata": {},
   "source": [
    "#### 输出`students`的性别和身高列。"
   ]
  },
  {
   "cell_type": "code",
   "execution_count": null,
   "id": "79722a5b",
   "metadata": {},
   "outputs": [],
   "source": []
  },
  {
   "cell_type": "markdown",
   "id": "72ad6e0a",
   "metadata": {},
   "source": [
    "#### 输出`students`索引为003的行。"
   ]
  },
  {
   "cell_type": "code",
   "execution_count": null,
   "id": "9c383c5f",
   "metadata": {},
   "outputs": [],
   "source": []
  },
  {
   "cell_type": "markdown",
   "id": "39ce3368",
   "metadata": {},
   "source": [
    "#### 输出`students`索引为003、004、005的行。"
   ]
  },
  {
   "cell_type": "code",
   "execution_count": null,
   "id": "8c07607b",
   "metadata": {},
   "outputs": [],
   "source": []
  },
  {
   "cell_type": "markdown",
   "id": "465ac365",
   "metadata": {},
   "source": [
    "#### 输出`students`里索引为005的身高。"
   ]
  },
  {
   "cell_type": "code",
   "execution_count": null,
   "id": "13b75e49",
   "metadata": {},
   "outputs": [],
   "source": []
  },
  {
   "cell_type": "markdown",
   "id": "853f2133",
   "metadata": {},
   "source": [
    "#### 输出`students`索引为003、005的数据的姓名和身高。"
   ]
  },
  {
   "cell_type": "code",
   "execution_count": null,
   "id": "70fc662c",
   "metadata": {},
   "outputs": [],
   "source": []
  },
  {
   "cell_type": "markdown",
   "id": "297019f9",
   "metadata": {},
   "source": [
    "#### 输出`students`索引为003、005的数据的所有变量。"
   ]
  },
  {
   "cell_type": "code",
   "execution_count": null,
   "id": "748dc450",
   "metadata": {},
   "outputs": [],
   "source": []
  },
  {
   "cell_type": "markdown",
   "id": "ffdbd372",
   "metadata": {},
   "source": [
    "#### 输出`students`里身高大于165的女性。"
   ]
  },
  {
   "cell_type": "code",
   "execution_count": null,
   "id": "b43592f6",
   "metadata": {},
   "outputs": [],
   "source": []
  },
  {
   "cell_type": "markdown",
   "id": "6947f5c6",
   "metadata": {},
   "source": [
    "#### 通过`head`方法，输出`students`前五行数据。"
   ]
  },
  {
   "cell_type": "code",
   "execution_count": null,
   "id": "3ccdd6ce",
   "metadata": {},
   "outputs": [],
   "source": []
  }
 ],
 "metadata": {
  "kernelspec": {
   "display_name": "Python 3",
   "language": "python",
   "name": "python3"
  },
  "language_info": {
   "codemirror_mode": {
    "name": "ipython",
    "version": 3
   },
   "file_extension": ".py",
   "mimetype": "text/x-python",
   "name": "python",
   "nbconvert_exporter": "python",
   "pygments_lexer": "ipython3",
   "version": "3.8.1"
  }
 },
 "nbformat": 4,
 "nbformat_minor": 5
}
