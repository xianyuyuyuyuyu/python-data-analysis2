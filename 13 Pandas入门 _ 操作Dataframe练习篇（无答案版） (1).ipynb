{
 "cells": [
  {
   "cell_type": "markdown",
   "metadata": {},
   "source": [
    "#### 写出导入pandas的语句，并且给pandas别名为`pd`。"
   ]
  },
  {
   "cell_type": "code",
   "execution_count": null,
   "metadata": {},
   "outputs": [],
   "source": []
  },
  {
   "cell_type": "markdown",
   "metadata": {},
   "source": [
    "#### 创建一个名为`students`的DataFrame，包含数据如下：\n",
    "```{\"001\": {\"姓名\": \"小陈\", \"考试1\": 85, \"考试2\": 95, \"考试3\": 92},\n",
    " \"002\": {\"姓名\": \"小李\", \"考试1\": 91, \"考试2\": 92, \"考试3\": 94},\n",
    " \"003\": {\"姓名\": \"小王\", \"考试1\": 86, \"考试2\": 81, \"考试3\": 89},\n",
    " \"004\": {\"姓名\": \"小张\", \"考试1\": 79, \"考试2\": 89, \"考试3\": 95},\n",
    " \"005\": {\"姓名\": \"小赵\", \"考试1\": 96, \"考试2\": 91, \"考试3\": 91},\n",
    " \"006\": {\"姓名\": \"小周\", \"考试1\": 81, \"考试2\": 89, \"考试3\": 92}\n",
    " }```\n",
    " \n",
    " #### 要求索引为学号（001、002等），列名为姓名、考试1、考试2、考试3，并输出创建好的DataFrame。"
   ]
  },
  {
   "cell_type": "code",
   "execution_count": null,
   "metadata": {},
   "outputs": [],
   "source": []
  },
  {
   "cell_type": "markdown",
   "metadata": {},
   "source": [
    "#### 给`students`增加一列`考试4`，数据依次为：`[72, 69, 79, 83, 82, 76]`。"
   ]
  },
  {
   "cell_type": "code",
   "execution_count": null,
   "metadata": {},
   "outputs": [],
   "source": []
  },
  {
   "cell_type": "markdown",
   "metadata": {},
   "source": [
    "#### 给`students`添加一行，索引为007，数据为：`\"小杨\", 79, 82, 81, 69`。"
   ]
  },
  {
   "cell_type": "code",
   "execution_count": null,
   "metadata": {},
   "outputs": [],
   "source": []
  },
  {
   "cell_type": "markdown",
   "metadata": {},
   "source": [
    "#### 输出`students`删除索引为006、007的结果，但不要改变`students`本身。"
   ]
  },
  {
   "cell_type": "code",
   "execution_count": null,
   "metadata": {},
   "outputs": [],
   "source": []
  },
  {
   "cell_type": "markdown",
   "metadata": {},
   "source": [
    "#### 输出`students`删除列名为“考试2”、“考试4”的结果，但不要改变`students`本身。"
   ]
  },
  {
   "cell_type": "code",
   "execution_count": null,
   "metadata": {},
   "outputs": [],
   "source": []
  },
  {
   "cell_type": "markdown",
   "metadata": {},
   "source": [
    "#### 创建一个Series`bonus`，包含的值和值对应的索引分别为：`{\"考试1\": 2, \"考试2\": 3, \"考试3\": 2, \"考试4\": 5}`。输出这个Series与`students`里所有分数列相加后的结果，但不用更新`students`。"
   ]
  },
  {
   "cell_type": "code",
   "execution_count": null,
   "metadata": {},
   "outputs": [],
   "source": []
  },
  {
   "cell_type": "markdown",
   "metadata": {},
   "source": [
    "#### 更新`students`的`考试4`，让每项数据值增加10，并输出更新后的结果。"
   ]
  },
  {
   "cell_type": "code",
   "execution_count": null,
   "metadata": {},
   "outputs": [],
   "source": []
  }
 ],
 "metadata": {
  "kernelspec": {
   "display_name": "Python 3",
   "language": "python",
   "name": "python3"
  },
  "language_info": {
   "codemirror_mode": {
    "name": "ipython",
    "version": 3
   },
   "file_extension": ".py",
   "mimetype": "text/x-python",
   "name": "python",
   "nbconvert_exporter": "python",
   "pygments_lexer": "ipython3",
   "version": "3.8.1"
  }
 },
 "nbformat": 4,
 "nbformat_minor": 4
}
